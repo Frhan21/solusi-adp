{
 "cells": [
  {
   "cell_type": "code",
   "execution_count": 2,
   "metadata": {},
   "outputs": [
    {
     "name": "stdout",
     "output_type": "stream",
     "text": [
      "Anda memasukkan bilangan negatif\n"
     ]
    }
   ],
   "source": [
    "bil = float(input('Masukkan bilangan anda = '))\n",
    "if bil > 0 : \n",
    "    print('Anda memasukkan bilangan positif')\n",
    "else : \n",
    "    print('Anda memasukkan bilangan negatif')"
   ]
  }
 ],
 "metadata": {
  "kernelspec": {
   "display_name": "Python 3",
   "language": "python",
   "name": "python3"
  },
  "language_info": {
   "codemirror_mode": {
    "name": "ipython",
    "version": 3
   },
   "file_extension": ".py",
   "mimetype": "text/x-python",
   "name": "python",
   "nbconvert_exporter": "python",
   "pygments_lexer": "ipython3",
   "version": "3.11.3"
  },
  "orig_nbformat": 4
 },
 "nbformat": 4,
 "nbformat_minor": 2
}
