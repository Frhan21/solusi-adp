{
 "cells": [
  {
   "cell_type": "code",
   "execution_count": 10,
   "metadata": {},
   "outputs": [
    {
     "name": "stdout",
     "output_type": "stream",
     "text": [
      "Daftar Kode Fakultas\n",
      "(1)MIPA\n",
      "(2)Teknik\n",
      "(3)Teknologi Informasi\n",
      "\n",
      "List Jurusan :\n",
      "(1)Teknik Sipil\n",
      "(2)Teknik Mesin\n",
      "(3)Teknik Industri\n",
      "(4)Teknik Elektro\n"
     ]
    }
   ],
   "source": [
    "print('Daftar Kode Fakultas\\n(1)MIPA\\n(2)Teknik\\n(3)Teknologi Informasi')\n",
    "a = int(input('Pilih kode fakultas = '))\n",
    "\n",
    "print('\\nList Jurusan :')\n",
    "if a == 1 : \n",
    "    print('(1)Matematika\\n(2)Fisika\\n(3)Biologi\\n(4)Kimia')\n",
    "elif a == 2 : \n",
    "    print('(1)Teknik Sipil\\n(2)Teknik Mesin\\n(3)Teknik Industri\\n(4)Teknik Elektro')\n",
    "else : \n",
    "    print('(1)Sistem Informasi\\n(2)Teknik Komputer\\n(3)Informatika')"
   ]
  }
 ],
 "metadata": {
  "kernelspec": {
   "display_name": "Python 3",
   "language": "python",
   "name": "python3"
  },
  "language_info": {
   "codemirror_mode": {
    "name": "ipython",
    "version": 3
   },
   "file_extension": ".py",
   "mimetype": "text/x-python",
   "name": "python",
   "nbconvert_exporter": "python",
   "pygments_lexer": "ipython3",
   "version": "3.11.3"
  },
  "orig_nbformat": 4
 },
 "nbformat": 4,
 "nbformat_minor": 2
}
