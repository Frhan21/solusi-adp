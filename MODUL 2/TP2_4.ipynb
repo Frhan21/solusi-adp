{
 "cells": [
  {
   "cell_type": "code",
   "execution_count": 2,
   "metadata": {},
   "outputs": [],
   "source": [
    "f = 3 \n",
    "s = 2\n",
    "h = 4"
   ]
  },
  {
   "cell_type": "code",
   "execution_count": 3,
   "metadata": {},
   "outputs": [
    {
     "name": "stdout",
     "output_type": "stream",
     "text": [
      "Sifat Bayangan : Maya, tegak, diperbesar\n",
      "Nilai jarak bayangan  = -6.0\n",
      "Nilai tinggi bayangan = 12.0\n",
      "Nilai perbesaran      = 3.0\n"
     ]
    }
   ],
   "source": [
    "if s == f : \n",
    "    print('Bayangan tidak terbentuk')\n",
    "else: \n",
    "    c = 2*f \n",
    "    d = (f*s)/(s-f)\n",
    "    m = -d/s\n",
    "    k = m*h \n",
    "    if 0 < s < f : \n",
    "        print('Sifat Bayangan : Maya, tegak, diperbesar')\n",
    "    elif f < s < c : \n",
    "        print('Sifat Bayangan : Nyata, terbalik, diperbesar')\n",
    "    elif s == c : \n",
    "        print('Sifat Bayangan : Nyata, terbalik, sama besar')\n",
    "    elif s > c : \n",
    "        print('Sifat Bayangan : Nyata, terbalik, diperkecil')\n",
    "    \n",
    "    print(f'Nilai jarak bayangan  = {d}\\nNilai tinggi bayangan = {k}\\nNilai perbesaran      = {m}')"
   ]
  }
 ],
 "metadata": {
  "kernelspec": {
   "display_name": "Python 3",
   "language": "python",
   "name": "python3"
  },
  "language_info": {
   "codemirror_mode": {
    "name": "ipython",
    "version": 3
   },
   "file_extension": ".py",
   "mimetype": "text/x-python",
   "name": "python",
   "nbconvert_exporter": "python",
   "pygments_lexer": "ipython3",
   "version": "3.11.3"
  },
  "orig_nbformat": 4
 },
 "nbformat": 4,
 "nbformat_minor": 2
}
