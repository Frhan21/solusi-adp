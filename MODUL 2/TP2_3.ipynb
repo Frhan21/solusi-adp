{
 "cells": [
  {
   "cell_type": "code",
   "execution_count": 2,
   "metadata": {},
   "outputs": [],
   "source": [
    "F = 50; m = 10; g = 10; \n",
    "miuS = 0.4; miuK = 0.2 "
   ]
  },
  {
   "cell_type": "code",
   "execution_count": 6,
   "metadata": {},
   "outputs": [
    {
     "name": "stdout",
     "output_type": "stream",
     "text": [
      "Keadaan Balok bergerak\n",
      "Percepatan(a) = 3.0 m/s^2\n"
     ]
    }
   ],
   "source": [
    "fs = miuS*(m*g)\n",
    "fk = miuK*(m*g)\n",
    "\n",
    "if F < fs : \n",
    "    print('Keadaan Balok masih diam\\nPercepatan(a) = 0')\n",
    "elif F == fs : \n",
    "    print('Keadaan Balok hampir bergerak\\nPercepatan(a) = 0')\n",
    "else : \n",
    "    print(f'Keadaan Balok bergerak\\nPercepatan(a) = {(F-fk)/m:.1f} m/s^2')"
   ]
  }
 ],
 "metadata": {
  "kernelspec": {
   "display_name": "Python 3",
   "language": "python",
   "name": "python3"
  },
  "language_info": {
   "codemirror_mode": {
    "name": "ipython",
    "version": 3
   },
   "file_extension": ".py",
   "mimetype": "text/x-python",
   "name": "python",
   "nbconvert_exporter": "python",
   "pygments_lexer": "ipython3",
   "version": "3.11.3"
  },
  "orig_nbformat": 4
 },
 "nbformat": 4,
 "nbformat_minor": 2
}
