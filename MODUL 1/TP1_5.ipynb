{
 "cells": [
  {
   "cell_type": "code",
   "execution_count": 5,
   "metadata": {},
   "outputs": [],
   "source": [
    "import math as mt \n",
    "import numpy as np "
   ]
  },
  {
   "cell_type": "code",
   "execution_count": 6,
   "metadata": {},
   "outputs": [],
   "source": [
    "Fx = 1 \n",
    "Fy = 1 \n",
    "\n",
    "F = mt.sqrt(Fx**2 + Fy**2)\n",
    "teta = np.arctan(Fy/Fx)"
   ]
  },
  {
   "cell_type": "code",
   "execution_count": 11,
   "metadata": {},
   "outputs": [
    {
     "name": "stdout",
     "output_type": "stream",
     "text": [
      "\n",
      "vektor F = 1i + 1j\n",
      "F = 1.414\n",
      "Teta = 45.0 derajat\n",
      "\n"
     ]
    }
   ],
   "source": [
    "print(f\"\"\"\n",
    "vektor F = {Fx}i + {Fy}j\n",
    "F = {F:.3f}\n",
    "Teta = {mt.degrees(teta)} derajat\n",
    "\"\"\")"
   ]
  }
 ],
 "metadata": {
  "kernelspec": {
   "display_name": "Python 3",
   "language": "python",
   "name": "python3"
  },
  "language_info": {
   "codemirror_mode": {
    "name": "ipython",
    "version": 3
   },
   "file_extension": ".py",
   "mimetype": "text/x-python",
   "name": "python",
   "nbconvert_exporter": "python",
   "pygments_lexer": "ipython3",
   "version": "3.11.3"
  },
  "orig_nbformat": 4
 },
 "nbformat": 4,
 "nbformat_minor": 2
}
