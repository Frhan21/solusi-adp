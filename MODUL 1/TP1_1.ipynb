{
 "cells": [
  {
   "cell_type": "code",
   "execution_count": 2,
   "metadata": {},
   "outputs": [],
   "source": [
    "import math as mt"
   ]
  },
  {
   "cell_type": "code",
   "execution_count": 5,
   "metadata": {},
   "outputs": [],
   "source": [
    "r = float(input('Masukkan nilai jari - jari = '))\n",
    "t = float(input('Masukkan nilai tinggi      = '))\n",
    "m = float(input('Masukkan nilai massa       = '))\n",
    "\n",
    "LA = mt.pi*(r**2)\n",
    "LS = 2*mt.pi*(r)*t\n",
    "LP = 2*LA + LS \n",
    "V  = mt.pi*(r**2)*t\n",
    "Rho = m/V\n"
   ]
  },
  {
   "cell_type": "code",
   "execution_count": 6,
   "metadata": {},
   "outputs": [
    {
     "name": "stdout",
     "output_type": "stream",
     "text": [
      "\n",
      "Jari - jari silinder = 7.0\n",
      "Tinggi Silinder      = 10.0\n",
      "Massa Silinder       = 2.0\n",
      "\n",
      "Luas Alas = 153.9380\n",
      "Luas Selubung = 440\n",
      "Luas Permukaan = 748\n",
      "Volume = 1.54e+03\n",
      "Massa Jenis = 1.30e-03\n"
     ]
    }
   ],
   "source": [
    "\n",
    "print(f\"\"\"\n",
    "Jari - jari silinder = {r}\n",
    "Tinggi Silinder      = {t}\n",
    "Massa Silinder       = {m}\n",
    "\"\"\")\n",
    "\n",
    "print(f\"Luas Alas = {LA:.4f}\")\n",
    "print(f\"Luas Selubung = {LS:.0f}\")\n",
    "print(f\"Luas Permukaan = {LP:.0f}\")\n",
    "print(f\"Volume = {V:.2e}\")\n",
    "print(f\"Massa Jenis = {Rho:.2e}\")"
   ]
  }
 ],
 "metadata": {
  "kernelspec": {
   "display_name": "Python 3",
   "language": "python",
   "name": "python3"
  },
  "language_info": {
   "codemirror_mode": {
    "name": "ipython",
    "version": 3
   },
   "file_extension": ".py",
   "mimetype": "text/x-python",
   "name": "python",
   "nbconvert_exporter": "python",
   "pygments_lexer": "ipython3",
   "version": "3.11.3"
  },
  "orig_nbformat": 4
 },
 "nbformat": 4,
 "nbformat_minor": 2
}
