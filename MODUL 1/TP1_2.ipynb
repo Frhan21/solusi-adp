{
 "cells": [
  {
   "cell_type": "code",
   "execution_count": 4,
   "metadata": {},
   "outputs": [],
   "source": [
    "import math as mt "
   ]
  },
  {
   "cell_type": "code",
   "execution_count": 5,
   "metadata": {},
   "outputs": [],
   "source": [
    "R = float(input('Masukkan nilai resistansi (R) = '))\n",
    "C = float(input(\"Masukkan nilai kapasitansi(C) = \"))\n",
    "L = float(input(\"Masukkan nilai induktansi (L) = \"))\n",
    "w = float(input(\"Masukkan nilai frekuensi  (w) = \"))"
   ]
  },
  {
   "cell_type": "code",
   "execution_count": 6,
   "metadata": {},
   "outputs": [],
   "source": [
    "Xl = w*L \n",
    "Xc = 1/(w*C)\n",
    "Z = mt.sqrt(R**2 + (Xl - Xc)**2)"
   ]
  },
  {
   "cell_type": "code",
   "execution_count": 7,
   "metadata": {},
   "outputs": [
    {
     "name": "stdout",
     "output_type": "stream",
     "text": [
      "\n",
      "Nilai Resistansi = 100.0\n",
      "Nilai Kapasitansi= 1e-06\n",
      "Nilai Induktansi = 0.1\n",
      "Nilai frekuensi  = 100.0\n",
      "\n",
      "==== Hasil === \n",
      "XL = 10.0\n",
      "XC = 10000.0\n",
      "Z  = 9990.500487963553\n",
      "\n"
     ]
    }
   ],
   "source": [
    "print(f\"\"\"\n",
    "Nilai Resistansi = {R}\n",
    "Nilai Kapasitansi= {C}\n",
    "Nilai Induktansi = {L}\n",
    "Nilai frekuensi  = {w}\n",
    "\n",
    "==== Hasil === \n",
    "XL = {Xl}\n",
    "XC = {Xc}\n",
    "Z  = {Z}\n",
    "\"\"\")"
   ]
  }
 ],
 "metadata": {
  "kernelspec": {
   "display_name": "Python 3",
   "language": "python",
   "name": "python3"
  },
  "language_info": {
   "codemirror_mode": {
    "name": "ipython",
    "version": 3
   },
   "file_extension": ".py",
   "mimetype": "text/x-python",
   "name": "python",
   "nbconvert_exporter": "python",
   "pygments_lexer": "ipython3",
   "version": "3.11.3"
  },
  "orig_nbformat": 4
 },
 "nbformat": 4,
 "nbformat_minor": 2
}
