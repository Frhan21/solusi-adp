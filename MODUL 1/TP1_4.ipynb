{
 "cells": [
  {
   "cell_type": "code",
   "execution_count": 1,
   "metadata": {},
   "outputs": [],
   "source": [
    "import math as mt "
   ]
  },
  {
   "cell_type": "code",
   "execution_count": 3,
   "metadata": {},
   "outputs": [],
   "source": [
    "Q = 20; x = 10; a = 5; e0 = 8.854*(10**-12); k = 1/(4*mt.pi*e0)"
   ]
  },
  {
   "cell_type": "code",
   "execution_count": 4,
   "metadata": {},
   "outputs": [],
   "source": [
    "E = (k*Q*x) / (x**2 + a**2)**(3/2)"
   ]
  },
  {
   "cell_type": "code",
   "execution_count": 5,
   "metadata": {},
   "outputs": [
    {
     "name": "stdout",
     "output_type": "stream",
     "text": [
      "\n",
      "Muatan total Q = 20 coulomb\n",
      "Jarak x        = 10 m \n",
      "jari - jari a  = 5 m \n",
      "\n",
      "=== Hasil === \n",
      "Nilai E adalah 1.286e+09\n",
      "\n"
     ]
    }
   ],
   "source": [
    "print(f\"\"\"\n",
    "Muatan total Q = {Q} coulomb\n",
    "Jarak x        = {x} m \n",
    "jari - jari a  = {a} m \n",
    "\n",
    "=== Hasil === \n",
    "Nilai E adalah {E:.3e}\n",
    "\"\"\")"
   ]
  }
 ],
 "metadata": {
  "kernelspec": {
   "display_name": "Python 3",
   "language": "python",
   "name": "python3"
  },
  "language_info": {
   "codemirror_mode": {
    "name": "ipython",
    "version": 3
   },
   "file_extension": ".py",
   "mimetype": "text/x-python",
   "name": "python",
   "nbconvert_exporter": "python",
   "pygments_lexer": "ipython3",
   "version": "3.11.3"
  },
  "orig_nbformat": 4
 },
 "nbformat": 4,
 "nbformat_minor": 2
}
