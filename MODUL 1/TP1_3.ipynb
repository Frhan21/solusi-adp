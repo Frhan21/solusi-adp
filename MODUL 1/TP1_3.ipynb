{
 "cells": [
  {
   "cell_type": "code",
   "execution_count": 15,
   "metadata": {},
   "outputs": [],
   "source": [
    "import math as mt"
   ]
  },
  {
   "cell_type": "code",
   "execution_count": 16,
   "metadata": {},
   "outputs": [],
   "source": [
    "R = 1000 \n",
    "C = 10**-6\n",
    "e = 1.5\n",
    "t = 10"
   ]
  },
  {
   "cell_type": "code",
   "execution_count": 22,
   "metadata": {},
   "outputs": [],
   "source": [
    "qt = (C*e)*(1-mt.e**(-t/(R) * C))\n",
    "it = (e/R)*(mt.e**(-t/(R) * C))"
   ]
  },
  {
   "cell_type": "code",
   "execution_count": 23,
   "metadata": {},
   "outputs": [
    {
     "name": "stdout",
     "output_type": "stream",
     "text": [
      "\n",
      "Nilai resistansi R  = 1000\n",
      "Nilai kapasitansi C = 1e-06\n",
      "Nilai tegangan e    = 1.5\n",
      "waktu t             = 10\n",
      "\n",
      "=== Hasil === \n",
      "Nilai muatan sebesar 1.50e-14\n",
      "Nilai arus sebesar 1.50e-03\n",
      "\n"
     ]
    }
   ],
   "source": [
    "print(f\"\"\"\n",
    "Nilai resistansi R  = {R}\n",
    "Nilai kapasitansi C = {C}\n",
    "Nilai tegangan e    = {e}\n",
    "waktu t             = {t}\n",
    "\n",
    "=== Hasil === \n",
    "Nilai muatan sebesar {qt:.2e}\n",
    "Nilai arus sebesar {it:.2e}\n",
    "\"\"\")"
   ]
  }
 ],
 "metadata": {
  "kernelspec": {
   "display_name": "Python 3",
   "language": "python",
   "name": "python3"
  },
  "language_info": {
   "codemirror_mode": {
    "name": "ipython",
    "version": 3
   },
   "file_extension": ".py",
   "mimetype": "text/x-python",
   "name": "python",
   "nbconvert_exporter": "python",
   "pygments_lexer": "ipython3",
   "version": "3.11.3"
  },
  "orig_nbformat": 4
 },
 "nbformat": 4,
 "nbformat_minor": 2
}
