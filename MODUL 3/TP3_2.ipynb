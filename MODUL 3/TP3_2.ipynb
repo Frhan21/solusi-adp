{
 "cells": [
  {
   "cell_type": "code",
   "execution_count": 2,
   "metadata": {},
   "outputs": [],
   "source": [
    "from prettytable import PrettyTable, ALL \n",
    "import numpy as np "
   ]
  },
  {
   "cell_type": "code",
   "execution_count": 3,
   "metadata": {},
   "outputs": [],
   "source": [
    "x = 12; N = 5 \n",
    "k = 9*(10**9)\n",
    "\n",
    "xi = []\n",
    "qi = []\n",
    "E = []"
   ]
  },
  {
   "cell_type": "code",
   "execution_count": 7,
   "metadata": {},
   "outputs": [
    {
     "name": "stdout",
     "output_type": "stream",
     "text": [
      "Besar Medan Listrik 4.000e+09 dan arahnya ke kanan\n"
     ]
    }
   ],
   "source": [
    "for i in range(N):\n",
    "    xq = (float(input(f'Masukkan nilai x[{i+1}] = ')))\n",
    "    qq = (float(input(f'Masukkan nilai q[{i+1}] = ')))\n",
    "    Ei = ((k*qq*(x-xq)) / ((x-xq)**3))\n",
    "\n",
    "\n",
    "if Ei > 0 : \n",
    "    print(f'Besar Medan Listrik {Ei:.3e} dan arahnya ke kanan')\n",
    "else : \n",
    "    print(f'Besar Medan Listrik {Ei:.3e} dan arahnya ke kiri')"
   ]
  },
  {
   "cell_type": "code",
   "execution_count": null,
   "metadata": {},
   "outputs": [],
   "source": []
  }
 ],
 "metadata": {
  "kernelspec": {
   "display_name": "Python 3",
   "language": "python",
   "name": "python3"
  },
  "language_info": {
   "codemirror_mode": {
    "name": "ipython",
    "version": 3
   },
   "file_extension": ".py",
   "mimetype": "text/x-python",
   "name": "python",
   "nbconvert_exporter": "python",
   "pygments_lexer": "ipython3",
   "version": "3.11.3"
  },
  "orig_nbformat": 4
 },
 "nbformat": 4,
 "nbformat_minor": 2
}
