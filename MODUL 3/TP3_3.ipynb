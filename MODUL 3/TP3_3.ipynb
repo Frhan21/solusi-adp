{
 "cells": [
  {
   "cell_type": "code",
   "execution_count": 34,
   "metadata": {},
   "outputs": [],
   "source": [
    "import numpy as np\n",
    "from prettytable import PrettyTable"
   ]
  },
  {
   "cell_type": "code",
   "execution_count": 35,
   "metadata": {},
   "outputs": [],
   "source": [
    "M0 = 5000 \n",
    "t2 = 4 \n",
    "ts = 16\n",
    "\n",
    "t = []\n",
    "Nt = []"
   ]
  },
  {
   "cell_type": "code",
   "execution_count": 36,
   "metadata": {},
   "outputs": [
    {
     "name": "stdout",
     "output_type": "stream",
     "text": [
      "Massa awal zat radioaktif = 5000\n",
      "Waktu Paroh = 4\n",
      "Lama Evaluasi = 16\n",
      "+-------+---------------------+\n",
      "| Waktu | Zat Radioaktif sisa |\n",
      "+-------+---------------------+\n",
      "|   0   |        5000.0       |\n",
      "|   4   |        2500.0       |\n",
      "|   8   |        1250.0       |\n",
      "|   12  |        625.0        |\n",
      "|   16  |        312.5        |\n",
      "+-------+---------------------+\n",
      "Sisa zat radioaktif = 312.5\n"
     ]
    }
   ],
   "source": [
    "for i in range(0,ts+1,t2):\n",
    "    N = M0*(0.5)**(i/t2)\n",
    "    Nt.append(N)\n",
    "    t.append(i)\n",
    "\n",
    "table = PrettyTable()\n",
    "table.add_column('Waktu', t)\n",
    "table.add_column('Zat Radioaktif sisa',Nt)\n",
    "\n",
    "print(f'Massa awal zat radioaktif = {M0}\\nWaktu Paroh = {t2}\\nLama Evaluasi = {ts}')\n",
    "print(table)\n",
    "print(f'Sisa zat radioaktif = {N}')\n"
   ]
  }
 ],
 "metadata": {
  "kernelspec": {
   "display_name": "Python 3",
   "language": "python",
   "name": "python3"
  },
  "language_info": {
   "codemirror_mode": {
    "name": "ipython",
    "version": 3
   },
   "file_extension": ".py",
   "mimetype": "text/x-python",
   "name": "python",
   "nbconvert_exporter": "python",
   "pygments_lexer": "ipython3",
   "version": "3.11.3"
  },
  "orig_nbformat": 4
 },
 "nbformat": 4,
 "nbformat_minor": 2
}
