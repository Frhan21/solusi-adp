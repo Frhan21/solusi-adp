{
 "cells": [
  {
   "cell_type": "code",
   "execution_count": 77,
   "metadata": {},
   "outputs": [],
   "source": [
    "import pandas as pd \n",
    "from prettytable import PrettyTable, ALL\n",
    "import numpy as np "
   ]
  },
  {
   "cell_type": "code",
   "execution_count": 78,
   "metadata": {},
   "outputs": [],
   "source": [
    "T0 = -40 \n",
    "Tm = 130\n",
    "dT = 20 \n"
   ]
  },
  {
   "cell_type": "code",
   "execution_count": 79,
   "metadata": {},
   "outputs": [],
   "source": [
    "F = []\n",
    "K = []\n",
    "C = []\n",
    "Wujud = []\n",
    "No = []\n",
    "\n",
    "for i in range (T0, Tm, dT):\n",
    "    F.append(((9/5)*i)+32)\n",
    "    K.append(i + 273) \n",
    "    C.append(i)\n",
    "\n",
    "    if i < 0 : \n",
    "         Wujud.append('Es')\n",
    "    elif i == 0 :\n",
    "         Wujud.append('Mencair')\n",
    "    elif 0 < i < 100 : \n",
    "        Wujud.append('Air')\n",
    "    elif i == 100 : \n",
    "        Wujud.append('Menguap')\n",
    "    else : \n",
    "        Wujud.append('Uap')\n",
    "\n",
    "    "
   ]
  },
  {
   "cell_type": "code",
   "execution_count": null,
   "metadata": {},
   "outputs": [],
   "source": []
  },
  {
   "cell_type": "code",
   "execution_count": 80,
   "metadata": {},
   "outputs": [
    {
     "name": "stdout",
     "output_type": "stream",
     "text": [
      "+---------+------------+--------+---------+\n",
      "| Celcius | Fahrenheit | Kelvin |  Wujud  |\n",
      "+---------+------------+--------+---------+\n",
      "|   -40   |   -40.0    |  233   |    Es   |\n",
      "|   -20   |    -4.0    |  253   |    Es   |\n",
      "|    0    |    32.0    |  273   | Mencair |\n",
      "|    20   |    68.0    |  293   |   Air   |\n",
      "|    40   |   104.0    |  313   |   Air   |\n",
      "|    60   |   140.0    |  333   |   Air   |\n",
      "|    80   |   176.0    |  353   |   Air   |\n",
      "|   100   |   212.0    |  373   | Menguap |\n",
      "|   120   |   248.0    |  393   |   Uap   |\n",
      "+---------+------------+--------+---------+\n"
     ]
    }
   ],
   "source": [
    "table = PrettyTable()\n",
    "table.add_column('Celcius', C)\n",
    "table.add_column('Fahrenheit', np.round(F,1))\n",
    "table.add_column('Kelvin', K)\n",
    "table.add_column('Wujud', Wujud)\n",
    "\n",
    "print(table)"
   ]
  }
 ],
 "metadata": {
  "kernelspec": {
   "display_name": "Python 3",
   "language": "python",
   "name": "python3"
  },
  "language_info": {
   "codemirror_mode": {
    "name": "ipython",
    "version": 3
   },
   "file_extension": ".py",
   "mimetype": "text/x-python",
   "name": "python",
   "nbconvert_exporter": "python",
   "pygments_lexer": "ipython3",
   "version": "3.11.3"
  },
  "orig_nbformat": 4
 },
 "nbformat": 4,
 "nbformat_minor": 2
}
